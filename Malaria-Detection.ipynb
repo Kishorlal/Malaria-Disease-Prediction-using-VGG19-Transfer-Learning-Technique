{
 "cells": [
  {
   "cell_type": "markdown",
   "metadata": {},
   "source": [
    "# Malaria detection using VGG19 Transfer learning technique"
   ]
  },
  {
   "cell_type": "code",
   "execution_count": 1,
   "metadata": {},
   "outputs": [],
   "source": [
    "# import necessary libraries\n",
    "import os\n",
    "import pandas\n",
    "import numpy as np\n",
    "import matplotlib.pyplot as plt\n",
    "import cv2\n",
    "\n",
    "from tensorflow.keras.layers import Conv2D, Flatten, Dense\n",
    "from tensorflow.keras.models import Model\n",
    "from tensorflow.keras.applications.vgg19 import VGG19\n",
    "from tensorflow.keras.preprocessing.image import ImageDataGenerator\n",
    "from sklearn.model_selection import train_test_split\n",
    "from tensorflow.keras.models import load_model"
   ]
  },
  {
   "cell_type": "code",
   "execution_count": 2,
   "metadata": {},
   "outputs": [],
   "source": [
    "dataset=os.path.join(os.path.abspath(''),r\"dataset\")"
   ]
  },
  {
   "cell_type": "code",
   "execution_count": 3,
   "metadata": {},
   "outputs": [],
   "source": [
    "noOfInfectedSamples=len(os.listdir(os.path.join(dataset,r\"Infected\")))\n",
    "noOfUninfectedSamples= len(os.listdir(os.path.join(dataset,r\"Uninfected\")))"
   ]
  },
  {
   "cell_type": "markdown",
   "metadata": {},
   "source": [
    "# Data Visualisation"
   ]
  },
  {
   "cell_type": "code",
   "execution_count": 4,
   "metadata": {},
   "outputs": [
    {
     "data": {
      "image/png": "[encoded data removed]",
      "text/plain": [
       "<Figure size 432x288 with 1 Axes>"
      ]
     },
     "metadata": {
      "needs_background": "light"
     },
     "output_type": "display_data"
    }
   ],
   "source": [
    "fig = plt.figure()\n",
    "ax = fig.add_axes([0,0,1,1]) # each bar dimension\n",
    "classification=[\"Infected\", \"Uninfected\"]\n",
    "noOfSamples=[noOfInfectedSamples, noOfUninfectedSamples ]\n",
    "plt.ylabel(\"Count\")\n",
    "plt.xlabel(\"class\")\n",
    "ax.bar(classification,noOfSamples)\n",
    "plt.show()\n",
    "\n"
   ]
  },
  {
   "cell_type": "markdown",
   "metadata": {},
   "source": [
    "# Data Preprocessing"
   ]
  },
  {
   "cell_type": "code",
   "execution_count": 5,
   "metadata": {},
   "outputs": [],
   "source": [
    "images=[]\n",
    "classes=[]"
   ]
  },
  {
   "cell_type": "code",
   "execution_count": 6,
   "metadata": {},
   "outputs": [
    {
     "data": {
      "text/plain": [
       "['Infected', 'Uninfected']"
      ]
     },
     "execution_count": 6,
     "metadata": {},
     "output_type": "execute_result"
    }
   ],
   "source": [
    "os.listdir(dataset)"
   ]
  },
  {
   "cell_type": "code",
   "execution_count": 7,
   "metadata": {},
   "outputs": [],
   "source": [
    "for dirs in os.listdir(dataset):\n",
    "    imagepath=os.path.join(dataset,dirs)\n",
    "    for im in os.listdir(imagepath):\n",
    "        img=cv2.imread(os.path.join(imagepath,im))\n",
    "        img=cv2.resize(img,(224,224))\n",
    "        img=img/255\n",
    "        images.append(img)\n",
    "        classes.append(dirs)"
   ]
  },
  {
   "cell_type": "code",
   "execution_count": 8,
   "metadata": {},
   "outputs": [],
   "source": [
    "X=np.array(images)"
   ]
  },
  {
   "cell_type": "code",
   "execution_count": 9,
   "metadata": {},
   "outputs": [
    {
     "data": {
      "text/plain": [
       "(517, 224, 224, 3)"
      ]
     },
     "execution_count": 9,
     "metadata": {},
     "output_type": "execute_result"
    }
   ],
   "source": [
    "X.shape"
   ]
  },
  {
   "cell_type": "code",
   "execution_count": 10,
   "metadata": {},
   "outputs": [],
   "source": [
    "\n",
    "Y=np.array(classes)"
   ]
  },
  {
   "cell_type": "code",
   "execution_count": 11,
   "metadata": {},
   "outputs": [
    {
     "data": {
      "text/plain": [
       "(517,)"
      ]
     },
     "execution_count": 11,
     "metadata": {},
     "output_type": "execute_result"
    }
   ],
   "source": [
    "Y.shape"
   ]
  },
  {
   "cell_type": "markdown",
   "metadata": {},
   "source": [
    "# Create Hold out environment"
   ]
  },
  {
   "cell_type": "code",
   "execution_count": 12,
   "metadata": {},
   "outputs": [],
   "source": [
    "\n",
    "X_train, X_test, Y_train, Y_test=train_test_split(X, Y, test_size=0.2)\n"
   ]
  },
  {
   "cell_type": "code",
   "execution_count": 13,
   "metadata": {},
   "outputs": [
    {
     "data": {
      "text/plain": [
       "(413, 224, 224, 3)"
      ]
     },
     "execution_count": 13,
     "metadata": {},
     "output_type": "execute_result"
    }
   ],
   "source": [
    "X_train.shape"
   ]
  },
  {
   "cell_type": "code",
   "execution_count": 14,
   "metadata": {
    "scrolled": true
   },
   "outputs": [
    {
     "data": {
      "text/plain": [
       "array(['Uninfected', 'Infected', 'Infected', 'Uninfected', 'Infected',\n",
       "       'Uninfected', 'Uninfected', 'Uninfected', 'Infected', 'Uninfected',\n",
       "       'Infected', 'Infected', 'Infected', 'Infected', 'Uninfected',\n",
       "       'Infected', 'Uninfected', 'Infected', 'Uninfected', 'Uninfected',\n",
       "       'Infected', 'Infected', 'Uninfected', 'Infected', 'Infected',\n",
       "       'Infected', 'Uninfected', 'Uninfected', 'Infected', 'Uninfected',\n",
       "       'Uninfected', 'Infected', 'Uninfected', 'Infected', 'Uninfected',\n",
       "       'Infected', 'Infected', 'Uninfected', 'Uninfected', 'Infected',\n",
       "       'Infected', 'Uninfected', 'Infected', 'Infected', 'Infected',\n",
       "       'Infected', 'Uninfected', 'Uninfected', 'Infected', 'Infected',\n",
       "       'Infected', 'Infected', 'Uninfected', 'Infected', 'Infected',\n",
       "       'Infected', 'Infected', 'Uninfected', 'Uninfected', 'Uninfected',\n",
       "       'Infected', 'Infected', 'Uninfected', 'Uninfected', 'Infected',\n",
       "       'Uninfected', 'Uninfected', 'Infected', 'Uninfected', 'Uninfected',\n",
       "       'Infected', 'Infected', 'Uninfected', 'Infected', 'Uninfected',\n",
       "       'Uninfected', 'Infected', 'Infected', 'Uninfected', 'Infected',\n",
       "       'Uninfected', 'Infected', 'Infected', 'Infected', 'Infected',\n",
       "       'Infected', 'Infected', 'Infected', 'Uninfected', 'Infected',\n",
       "       'Uninfected', 'Infected', 'Infected', 'Infected', 'Uninfected',\n",
       "       'Uninfected', 'Infected', 'Infected', 'Infected', 'Uninfected',\n",
       "       'Uninfected', 'Infected', 'Infected', 'Infected', 'Uninfected',\n",
       "       'Uninfected', 'Uninfected', 'Infected', 'Infected', 'Infected',\n",
       "       'Infected', 'Infected', 'Uninfected', 'Infected', 'Infected',\n",
       "       'Uninfected', 'Infected', 'Uninfected', 'Infected', 'Infected',\n",
       "       'Uninfected', 'Infected', 'Infected', 'Uninfected', 'Infected',\n",
       "       'Uninfected', 'Uninfected', 'Uninfected', 'Uninfected',\n",
       "       'Uninfected', 'Uninfected', 'Infected', 'Infected', 'Uninfected',\n",
       "       'Uninfected', 'Infected', 'Uninfected', 'Uninfected', 'Infected',\n",
       "       'Infected', 'Uninfected', 'Uninfected', 'Infected', 'Infected',\n",
       "       'Infected', 'Uninfected', 'Infected', 'Infected', 'Uninfected',\n",
       "       'Infected', 'Infected', 'Infected', 'Infected', 'Infected',\n",
       "       'Infected', 'Infected', 'Infected', 'Infected', 'Infected',\n",
       "       'Infected', 'Infected', 'Infected', 'Uninfected', 'Uninfected',\n",
       "       'Infected', 'Infected', 'Infected', 'Infected', 'Uninfected',\n",
       "       'Infected', 'Infected', 'Infected', 'Infected', 'Uninfected',\n",
       "       'Uninfected', 'Infected', 'Infected', 'Infected', 'Uninfected',\n",
       "       'Infected', 'Infected', 'Uninfected', 'Infected', 'Uninfected',\n",
       "       'Uninfected', 'Infected', 'Infected', 'Uninfected', 'Uninfected',\n",
       "       'Infected', 'Infected', 'Uninfected', 'Uninfected', 'Infected',\n",
       "       'Infected', 'Infected', 'Uninfected', 'Infected', 'Infected',\n",
       "       'Infected', 'Infected', 'Uninfected', 'Infected', 'Infected',\n",
       "       'Uninfected', 'Infected', 'Infected', 'Infected', 'Infected',\n",
       "       'Uninfected', 'Infected', 'Infected', 'Infected', 'Infected',\n",
       "       'Infected', 'Infected', 'Infected', 'Infected', 'Infected',\n",
       "       'Infected', 'Infected', 'Infected', 'Infected', 'Uninfected',\n",
       "       'Infected', 'Uninfected', 'Infected', 'Infected', 'Infected',\n",
       "       'Infected', 'Infected', 'Infected', 'Uninfected', 'Uninfected',\n",
       "       'Infected', 'Infected', 'Uninfected', 'Infected', 'Uninfected',\n",
       "       'Uninfected', 'Uninfected', 'Infected', 'Uninfected', 'Infected',\n",
       "       'Infected', 'Infected', 'Infected', 'Infected', 'Infected',\n",
       "       'Uninfected', 'Uninfected', 'Uninfected', 'Uninfected',\n",
       "       'Uninfected', 'Infected', 'Infected', 'Infected', 'Uninfected',\n",
       "       'Uninfected', 'Uninfected', 'Infected', 'Uninfected', 'Uninfected',\n",
       "       'Infected', 'Uninfected', 'Infected', 'Uninfected', 'Uninfected',\n",
       "       'Uninfected', 'Infected', 'Infected', 'Uninfected', 'Infected',\n",
       "       'Infected', 'Infected', 'Infected', 'Infected', 'Infected',\n",
       "       'Uninfected', 'Infected', 'Infected', 'Uninfected', 'Infected',\n",
       "       'Infected', 'Infected', 'Infected', 'Infected', 'Infected',\n",
       "       'Uninfected', 'Infected', 'Uninfected', 'Uninfected', 'Infected',\n",
       "       'Uninfected', 'Infected', 'Uninfected', 'Uninfected', 'Uninfected',\n",
       "       'Infected', 'Uninfected', 'Infected', 'Uninfected', 'Infected',\n",
       "       'Infected', 'Infected', 'Uninfected', 'Infected', 'Infected',\n",
       "       'Uninfected', 'Infected', 'Uninfected', 'Infected', 'Infected',\n",
       "       'Uninfected', 'Infected', 'Uninfected', 'Uninfected', 'Infected',\n",
       "       'Infected', 'Uninfected', 'Infected', 'Uninfected', 'Uninfected',\n",
       "       'Infected', 'Infected', 'Infected', 'Infected', 'Infected',\n",
       "       'Uninfected', 'Uninfected', 'Infected', 'Uninfected', 'Infected',\n",
       "       'Infected', 'Infected', 'Uninfected', 'Infected', 'Uninfected',\n",
       "       'Infected', 'Uninfected', 'Uninfected', 'Uninfected', 'Uninfected',\n",
       "       'Infected', 'Uninfected', 'Uninfected', 'Infected', 'Uninfected',\n",
       "       'Uninfected', 'Uninfected', 'Infected', 'Infected', 'Uninfected',\n",
       "       'Uninfected', 'Uninfected', 'Infected', 'Infected', 'Infected',\n",
       "       'Uninfected', 'Infected', 'Uninfected', 'Infected', 'Uninfected',\n",
       "       'Infected', 'Uninfected', 'Infected', 'Infected', 'Infected',\n",
       "       'Infected', 'Infected', 'Infected', 'Infected', 'Infected',\n",
       "       'Infected', 'Infected', 'Uninfected', 'Infected', 'Uninfected',\n",
       "       'Infected', 'Infected', 'Infected', 'Uninfected', 'Uninfected',\n",
       "       'Infected', 'Uninfected', 'Infected', 'Uninfected', 'Uninfected',\n",
       "       'Infected', 'Uninfected', 'Infected', 'Infected', 'Infected',\n",
       "       'Uninfected', 'Uninfected', 'Uninfected', 'Infected', 'Infected',\n",
       "       'Uninfected', 'Infected', 'Infected', 'Infected', 'Infected',\n",
       "       'Uninfected', 'Uninfected', 'Infected', 'Uninfected', 'Infected',\n",
       "       'Uninfected', 'Infected', 'Infected', 'Infected', 'Infected'],\n",
       "      dtype='<U10')"
      ]
     },
     "execution_count": 14,
     "metadata": {},
     "output_type": "execute_result"
    }
   ],
   "source": [
    "Y_train"
   ]
  },
  {
   "cell_type": "code",
   "execution_count": 15,
   "metadata": {},
   "outputs": [],
   "source": [
    "outputtobeclassified=len(os.listdir(dataset))"
   ]
  },
  {
   "cell_type": "markdown",
   "metadata": {},
   "source": [
    "# One Hot Encoding"
   ]
  },
  {
   "cell_type": "code",
   "execution_count": 16,
   "metadata": {},
   "outputs": [],
   "source": [
    "y_train=pandas.get_dummies(Y_train)\n",
    "y_test=pandas.get_dummies(Y_test)"
   ]
  },
  {
   "cell_type": "code",
   "execution_count": 17,
   "metadata": {},
   "outputs": [
    {
     "data": {
      "text/html": [
       "<div>\n",
       "<style scoped>\n",
       "    .dataframe tbody tr th:only-of-type {\n",
       "        vertical-align: middle;\n",
       "    }\n",
       "\n",
       "    .dataframe tbody tr th {\n",
       "        vertical-align: top;\n",
       "    }\n",
       "\n",
       "    .dataframe thead th {\n",
       "        text-align: right;\n",
       "    }\n",
       "</style>\n",
       "<table border=\"1\" class=\"dataframe\">\n",
       "  <thead>\n",
       "    <tr style=\"text-align: right;\">\n",
       "      <th></th>\n",
       "      <th>Infected</th>\n",
       "      <th>Uninfected</th>\n",
       "    </tr>\n",
       "  </thead>\n",
       "  <tbody>\n",
       "    <tr>\n",
       "      <th>0</th>\n",
       "      <td>1</td>\n",
       "      <td>0</td>\n",
       "    </tr>\n",
       "    <tr>\n",
       "      <th>1</th>\n",
       "      <td>0</td>\n",
       "      <td>1</td>\n",
       "    </tr>\n",
       "    <tr>\n",
       "      <th>2</th>\n",
       "      <td>0</td>\n",
       "      <td>1</td>\n",
       "    </tr>\n",
       "    <tr>\n",
       "      <th>3</th>\n",
       "      <td>0</td>\n",
       "      <td>1</td>\n",
       "    </tr>\n",
       "    <tr>\n",
       "      <th>4</th>\n",
       "      <td>1</td>\n",
       "      <td>0</td>\n",
       "    </tr>\n",
       "    <tr>\n",
       "      <th>...</th>\n",
       "      <td>...</td>\n",
       "      <td>...</td>\n",
       "    </tr>\n",
       "    <tr>\n",
       "      <th>99</th>\n",
       "      <td>0</td>\n",
       "      <td>1</td>\n",
       "    </tr>\n",
       "    <tr>\n",
       "      <th>100</th>\n",
       "      <td>1</td>\n",
       "      <td>0</td>\n",
       "    </tr>\n",
       "    <tr>\n",
       "      <th>101</th>\n",
       "      <td>1</td>\n",
       "      <td>0</td>\n",
       "    </tr>\n",
       "    <tr>\n",
       "      <th>102</th>\n",
       "      <td>1</td>\n",
       "      <td>0</td>\n",
       "    </tr>\n",
       "    <tr>\n",
       "      <th>103</th>\n",
       "      <td>1</td>\n",
       "      <td>0</td>\n",
       "    </tr>\n",
       "  </tbody>\n",
       "</table>\n",
       "<p>104 rows × 2 columns</p>\n",
       "</div>"
      ],
      "text/plain": [
       "     Infected  Uninfected\n",
       "0           1           0\n",
       "1           0           1\n",
       "2           0           1\n",
       "3           0           1\n",
       "4           1           0\n",
       "..        ...         ...\n",
       "99          0           1\n",
       "100         1           0\n",
       "101         1           0\n",
       "102         1           0\n",
       "103         1           0\n",
       "\n",
       "[104 rows x 2 columns]"
      ]
     },
     "execution_count": 17,
     "metadata": {},
     "output_type": "execute_result"
    }
   ],
   "source": [
    "y_test"
   ]
  },
  {
   "cell_type": "code",
   "execution_count": 18,
   "metadata": {},
   "outputs": [],
   "source": [
    "# For Reference"
   ]
  },
  {
   "cell_type": "code",
   "execution_count": 25,
   "metadata": {},
   "outputs": [
    {
     "name": "stdout",
     "output_type": "stream",
     "text": [
      "Downloading data from https://storage.googleapis.com/tensorflow/keras-applications/vgg19/vgg19_weights_tf_dim_ordering_tf_kernels.h5\n",
      "574717952/574710816 [==============================] - 333s 1us/step\n"
     ]
    }
   ],
   "source": [
    "vgg19_model = VGG19()"
   ]
  },
  {
   "cell_type": "code",
   "execution_count": null,
   "metadata": {},
   "outputs": [],
   "source": []
  },
  {
   "cell_type": "code",
   "execution_count": 26,
   "metadata": {},
   "outputs": [
    {
     "name": "stdout",
     "output_type": "stream",
     "text": [
      "Model: \"vgg19\"\n",
      "_________________________________________________________________\n",
      "Layer (type)                 Output Shape              Param #   \n",
      "=================================================================\n",
      "input_3 (InputLayer)         [(None, 224, 224, 3)]     0         \n",
      "_________________________________________________________________\n",
      "block1_conv1 (Conv2D)        (None, 224, 224, 64)      1792      \n",
      "_________________________________________________________________\n",
      "block1_conv2 (Conv2D)        (None, 224, 224, 64)      36928     \n",
      "_________________________________________________________________\n",
      "block1_pool (MaxPooling2D)   (None, 112, 112, 64)      0         \n",
      "_________________________________________________________________\n",
      "block2_conv1 (Conv2D)        (None, 112, 112, 128)     73856     \n",
      "_________________________________________________________________\n",
      "block2_conv2 (Conv2D)        (None, 112, 112, 128)     147584    \n",
      "_________________________________________________________________\n",
      "block2_pool (MaxPooling2D)   (None, 56, 56, 128)       0         \n",
      "_________________________________________________________________\n",
      "block3_conv1 (Conv2D)        (None, 56, 56, 256)       295168    \n",
      "_________________________________________________________________\n",
      "block3_conv2 (Conv2D)        (None, 56, 56, 256)       590080    \n",
      "_________________________________________________________________\n",
      "block3_conv3 (Conv2D)        (None, 56, 56, 256)       590080    \n",
      "_________________________________________________________________\n",
      "block3_conv4 (Conv2D)        (None, 56, 56, 256)       590080    \n",
      "_________________________________________________________________\n",
      "block3_pool (MaxPooling2D)   (None, 28, 28, 256)       0         \n",
      "_________________________________________________________________\n",
      "block4_conv1 (Conv2D)        (None, 28, 28, 512)       1180160   \n",
      "_________________________________________________________________\n",
      "block4_conv2 (Conv2D)        (None, 28, 28, 512)       2359808   \n",
      "_________________________________________________________________\n",
      "block4_conv3 (Conv2D)        (None, 28, 28, 512)       2359808   \n",
      "_________________________________________________________________\n",
      "block4_conv4 (Conv2D)        (None, 28, 28, 512)       2359808   \n",
      "_________________________________________________________________\n",
      "block4_pool (MaxPooling2D)   (None, 14, 14, 512)       0         \n",
      "_________________________________________________________________\n",
      "block5_conv1 (Conv2D)        (None, 14, 14, 512)       2359808   \n",
      "_________________________________________________________________\n",
      "block5_conv2 (Conv2D)        (None, 14, 14, 512)       2359808   \n",
      "_________________________________________________________________\n",
      "block5_conv3 (Conv2D)        (None, 14, 14, 512)       2359808   \n",
      "_________________________________________________________________\n",
      "block5_conv4 (Conv2D)        (None, 14, 14, 512)       2359808   \n",
      "_________________________________________________________________\n",
      "block5_pool (MaxPooling2D)   (None, 7, 7, 512)         0         \n",
      "_________________________________________________________________\n",
      "flatten (Flatten)            (None, 25088)             0         \n",
      "_________________________________________________________________\n",
      "fc1 (Dense)                  (None, 4096)              102764544 \n",
      "_________________________________________________________________\n",
      "fc2 (Dense)                  (None, 4096)              16781312  \n",
      "_________________________________________________________________\n",
      "predictions (Dense)          (None, 1000)              4097000   \n",
      "=================================================================\n",
      "Total params: 143,667,240\n",
      "Trainable params: 143,667,240\n",
      "Non-trainable params: 0\n",
      "_________________________________________________________________\n"
     ]
    }
   ],
   "source": [
    "vgg19_model.summary()"
   ]
  },
  {
   "cell_type": "markdown",
   "metadata": {},
   "source": [
    "# VGG19 Model Initialisation"
   ]
  },
  {
   "cell_type": "code",
   "execution_count": 19,
   "metadata": {},
   "outputs": [],
   "source": [
    "IMAGE_SIZE=[224,224]\n",
    "VGG19_init = VGG19(input_shape=IMAGE_SIZE + [3], weights='imagenet', include_top=False)"
   ]
  },
  {
   "cell_type": "code",
   "execution_count": 20,
   "metadata": {},
   "outputs": [],
   "source": [
    "for layer in VGG19_init.layers:\n",
    "    layer.trainable = False"
   ]
  },
  {
   "cell_type": "code",
   "execution_count": 21,
   "metadata": {},
   "outputs": [],
   "source": [
    "\n",
    "layer = Flatten()(VGG19_init.output)\n",
    "prediction = Dense(outputtobeclassified, activation='sigmoid')(layer)\n",
    "model = Model(inputs=VGG19_init.input, outputs=prediction)"
   ]
  },
  {
   "cell_type": "code",
   "execution_count": 22,
   "metadata": {},
   "outputs": [
    {
     "name": "stdout",
     "output_type": "stream",
     "text": [
      "Model: \"model\"\n",
      "_________________________________________________________________\n",
      "Layer (type)                 Output Shape              Param #   \n",
      "=================================================================\n",
      "input_1 (InputLayer)         [(None, 224, 224, 3)]     0         \n",
      "_________________________________________________________________\n",
      "block1_conv1 (Conv2D)        (None, 224, 224, 64)      1792      \n",
      "_________________________________________________________________\n",
      "block1_conv2 (Conv2D)        (None, 224, 224, 64)      36928     \n",
      "_________________________________________________________________\n",
      "block1_pool (MaxPooling2D)   (None, 112, 112, 64)      0         \n",
      "_________________________________________________________________\n",
      "block2_conv1 (Conv2D)        (None, 112, 112, 128)     73856     \n",
      "_________________________________________________________________\n",
      "block2_conv2 (Conv2D)        (None, 112, 112, 128)     147584    \n",
      "_________________________________________________________________\n",
      "block2_pool (MaxPooling2D)   (None, 56, 56, 128)       0         \n",
      "_________________________________________________________________\n",
      "block3_conv1 (Conv2D)        (None, 56, 56, 256)       295168    \n",
      "_________________________________________________________________\n",
      "block3_conv2 (Conv2D)        (None, 56, 56, 256)       590080    \n",
      "_________________________________________________________________\n",
      "block3_conv3 (Conv2D)        (None, 56, 56, 256)       590080    \n",
      "_________________________________________________________________\n",
      "block3_conv4 (Conv2D)        (None, 56, 56, 256)       590080    \n",
      "_________________________________________________________________\n",
      "block3_pool (MaxPooling2D)   (None, 28, 28, 256)       0         \n",
      "_________________________________________________________________\n",
      "block4_conv1 (Conv2D)        (None, 28, 28, 512)       1180160   \n",
      "_________________________________________________________________\n",
      "block4_conv2 (Conv2D)        (None, 28, 28, 512)       2359808   \n",
      "_________________________________________________________________\n",
      "block4_conv3 (Conv2D)        (None, 28, 28, 512)       2359808   \n",
      "_________________________________________________________________\n",
      "block4_conv4 (Conv2D)        (None, 28, 28, 512)       2359808   \n",
      "_________________________________________________________________\n",
      "block4_pool (MaxPooling2D)   (None, 14, 14, 512)       0         \n",
      "_________________________________________________________________\n",
      "block5_conv1 (Conv2D)        (None, 14, 14, 512)       2359808   \n",
      "_________________________________________________________________\n",
      "block5_conv2 (Conv2D)        (None, 14, 14, 512)       2359808   \n",
      "_________________________________________________________________\n",
      "block5_conv3 (Conv2D)        (None, 14, 14, 512)       2359808   \n",
      "_________________________________________________________________\n",
      "block5_conv4 (Conv2D)        (None, 14, 14, 512)       2359808   \n",
      "_________________________________________________________________\n",
      "block5_pool (MaxPooling2D)   (None, 7, 7, 512)         0         \n",
      "_________________________________________________________________\n",
      "flatten (Flatten)            (None, 25088)             0         \n",
      "_________________________________________________________________\n",
      "dense (Dense)                (None, 2)                 50178     \n",
      "=================================================================\n",
      "Total params: 20,074,562\n",
      "Trainable params: 50,178\n",
      "Non-trainable params: 20,024,384\n",
      "_________________________________________________________________\n"
     ]
    }
   ],
   "source": [
    "\n",
    "model.summary()\n"
   ]
  },
  {
   "cell_type": "code",
   "execution_count": 23,
   "metadata": {},
   "outputs": [],
   "source": [
    "model.compile(\n",
    "  loss='binary_crossentropy',\n",
    "  optimizer='adam',\n",
    "  metrics=['accuracy']\n",
    ")\n"
   ]
  },
  {
   "cell_type": "markdown",
   "metadata": {},
   "source": [
    "# Image Augumentation"
   ]
  },
  {
   "cell_type": "code",
   "execution_count": 24,
   "metadata": {},
   "outputs": [],
   "source": [
    "dataGen=ImageDataGenerator(width_shift_range=0.1,\n",
    "                          height_shift_range=0.1,\n",
    "                          zoom_range=0.2,\n",
    "                          shear_range=0.2,\n",
    "                          rotation_range=10,\n",
    "                          horizontal_flip = True)"
   ]
  },
  {
   "cell_type": "code",
   "execution_count": 25,
   "metadata": {},
   "outputs": [
    {
     "name": "stdout",
     "output_type": "stream",
     "text": [
      "WARNING:tensorflow:From <ipython-input-25-da9169c627c3>:5: Model.fit_generator (from tensorflow.python.keras.engine.training) is deprecated and will be removed in a future version.\n",
      "Instructions for updating:\n",
      "Please use Model.fit, which supports generators.\n",
      "Epoch 1/10\n",
      "41/41 [==============================] - 133s 3s/step - loss: 0.8213 - accuracy: 0.5831 - val_loss: 0.5894 - val_accuracy: 0.6731\n",
      "Epoch 2/10\n",
      "41/41 [==============================] - 133s 3s/step - loss: 0.4826 - accuracy: 0.7717 - val_loss: 0.4253 - val_accuracy: 0.7788\n",
      "Epoch 3/10\n",
      "41/41 [==============================] - 134s 3s/step - loss: 0.4291 - accuracy: 0.8015 - val_loss: 0.3479 - val_accuracy: 0.9135\n",
      "Epoch 4/10\n",
      "41/41 [==============================] - 133s 3s/step - loss: 0.3376 - accuracy: 0.8586 - val_loss: 0.3299 - val_accuracy: 0.8846\n",
      "Epoch 5/10\n",
      "41/41 [==============================] - 134s 3s/step - loss: 0.3696 - accuracy: 0.8238 - val_loss: 0.4032 - val_accuracy: 0.7981\n",
      "Epoch 6/10\n",
      "41/41 [==============================] - 136s 3s/step - loss: 0.3655 - accuracy: 0.8263 - val_loss: 0.2952 - val_accuracy: 0.9327\n",
      "Epoch 7/10\n",
      "41/41 [==============================] - 134s 3s/step - loss: 0.3084 - accuracy: 0.8437 - val_loss: 0.3126 - val_accuracy: 0.8846\n",
      "Epoch 8/10\n",
      "41/41 [==============================] - 136s 3s/step - loss: 0.2536 - accuracy: 0.9024 - val_loss: 0.2879 - val_accuracy: 0.8846\n",
      "Epoch 9/10\n",
      "41/41 [==============================] - 135s 3s/step - loss: 0.3890 - accuracy: 0.8164 - val_loss: 0.2951 - val_accuracy: 0.8846\n",
      "Epoch 10/10\n",
      "41/41 [==============================] - 135s 3s/step - loss: 0.2159 - accuracy: 0.9082 - val_loss: 0.2862 - val_accuracy: 0.9231\n"
     ]
    }
   ],
   "source": [
    "modelTraining=model.fit_generator(dataGen.flow(X_train,y_train,batch_size=10),\n",
    "                                steps_per_epoch=41,\n",
    "                                epochs=10,\n",
    "                            validation_data=(X_test,y_test),\n",
    "                            shuffle=1)"
   ]
  },
  {
   "cell_type": "code",
   "execution_count": 26,
   "metadata": {},
   "outputs": [
    {
     "data": {
      "image/png": "[encoded data removed]",
      "text/plain": [
       "<Figure size 432x288 with 1 Axes>"
      ]
     },
     "metadata": {
      "needs_background": "light"
     },
     "output_type": "display_data"
    },
    {
     "data": {
      "image/png": "[encoded data removed]",
      "text/plain": [
       "<Figure size 432x288 with 1 Axes>"
      ]
     },
     "metadata": {
      "needs_background": "light"
     },
     "output_type": "display_data"
    },
    {
     "data": {
      "text/plain": [
       "<Figure size 432x288 with 0 Axes>"
      ]
     },
     "metadata": {},
     "output_type": "display_data"
    }
   ],
   "source": [
    "# plot the loss\n",
    "plt.plot(modelTraining.history['loss'], label='train loss')\n",
    "plt.plot(modelTraining.history['val_loss'], label='val loss')\n",
    "plt.legend()\n",
    "plt.show()\n",
    "plt.savefig('LossVal_loss')\n",
    "\n",
    "# plot the accuracy\n",
    "plt.plot(modelTraining.history['accuracy'], label='train acc')\n",
    "plt.plot(modelTraining.history['val_accuracy'], label='val acc')\n",
    "plt.legend()\n",
    "plt.show()\n",
    "plt.savefig('AccVal_acc')"
   ]
  },
  {
   "cell_type": "markdown",
   "metadata": {},
   "source": [
    "# Verify Model Accuracy"
   ]
  },
  {
   "cell_type": "code",
   "execution_count": 29,
   "metadata": {},
   "outputs": [
    {
     "name": "stdout",
     "output_type": "stream",
     "text": [
      "Test_score =  0.286220908164978\n",
      "Test_accuracy =  0.9230769276618958\n"
     ]
    }
   ],
   "source": [
    "score=model.evaluate(X_test, y_test, verbose=0)\n",
    "\n",
    "print(\"Test_score = \",score[0])\n",
    "print(\"Test_accuracy = \",score[1])"
   ]
  },
  {
   "cell_type": "markdown",
   "metadata": {},
   "source": [
    "# Save Trained Model"
   ]
  },
  {
   "cell_type": "code",
   "execution_count": 28,
   "metadata": {},
   "outputs": [],
   "source": [
    "model.save('Malaria-Detection-VGG19.h5')"
   ]
  },
  {
   "cell_type": "markdown",
   "metadata": {},
   "source": [
    "# Evaluate Model"
   ]
  },
  {
   "cell_type": "code",
   "execution_count": 32,
   "metadata": {},
   "outputs": [],
   "source": [
    "testModel=load_model('Malaria-Detection-VGG19.h5')"
   ]
  },
  {
   "cell_type": "code",
   "execution_count": 64,
   "metadata": {},
   "outputs": [],
   "source": [
    "imOriginal=os.path.join(os.path.abspath(''),r\"test\\C241NThinF_IMG_20151207_124358_cell_91.png\")\n",
    "img=cv2.imread(imOriginal)\n",
    "img=cv2.resize(img,(224,224))\n",
    "img=img/255\n",
    "img=np.array(img)\n"
   ]
  },
  {
   "cell_type": "code",
   "execution_count": 65,
   "metadata": {},
   "outputs": [
    {
     "data": {
      "text/plain": [
       "(224, 224, 3)"
      ]
     },
     "execution_count": 65,
     "metadata": {},
     "output_type": "execute_result"
    }
   ],
   "source": [
    "img.shape"
   ]
  },
  {
   "cell_type": "code",
   "execution_count": 66,
   "metadata": {},
   "outputs": [
    {
     "data": {
      "text/plain": [
       "(1, 224, 224, 3)"
      ]
     },
     "execution_count": 66,
     "metadata": {},
     "output_type": "execute_result"
    }
   ],
   "source": [
    "img=np.expand_dims(img, axis=0)\n",
    "img.shape"
   ]
  },
  {
   "cell_type": "code",
   "execution_count": 67,
   "metadata": {},
   "outputs": [],
   "source": [
    "predictedvalue=np.argmax(testModel.predict(img), axis=1)"
   ]
  },
  {
   "cell_type": "code",
   "execution_count": 68,
   "metadata": {},
   "outputs": [
    {
     "name": "stdout",
     "output_type": "stream",
     "text": [
      "Uninfected\n"
     ]
    }
   ],
   "source": [
    "if(predictedvalue==0):\n",
    "    print(\"Infected\")\n",
    "else:\n",
    "    print(\"Uninfected\")"
   ]
  }
 ],
 "metadata": {
  "kernelspec": {
   "display_name": "Python 3",
   "language": "python",
   "name": "python3"
  },
  "language_info": {
   "codemirror_mode": {
    "name": "ipython",
    "version": 3
   },
   "file_extension": ".py",
   "mimetype": "text/x-python",
   "name": "python",
   "nbconvert_exporter": "python",
   "pygments_lexer": "ipython3",
   "version": "3.7.6"
  }
 },
 "nbformat": 4,
 "nbformat_minor": 2
}
